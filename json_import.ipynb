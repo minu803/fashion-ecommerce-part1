{
 "cells": [
  {
   "cell_type": "code",
   "execution_count": 3,
   "metadata": {},
   "outputs": [],
   "source": [
    "import csv \n",
    "import json\n",
    "import pymongo\n",
    "\n",
    "# connect to MongoDB\n",
    "client = pymongo.MongoClient(\"mongodb://localhost:27017/\")\n",
    "db = client[\"ecommerce\"]\n",
    "\n",
    "\n",
    "# define collections\n",
    "products = db[\"products\"] \n",
    "users = db[\"users\"]\n",
    "payments = db[\"payments\"]\n",
    "orders = db[\"orders\"]"
   ]
  },
  {
   "cell_type": "code",
   "execution_count": 8,
   "metadata": {},
   "outputs": [
    {
     "name": "stdout",
     "output_type": "stream",
     "text": [
      "{'name': 'Relaxed Fit Coat', 'description': 'A description of the Relaxed Fit Coat.', 'price': 229.0, 'skus': [{'size': 'S', 'quantity': 30}, {'size': 'M', 'quantity': 80}, {'size': 'L', 'quantity': 60}, {'size': 'XL', 'quantity': 40}], 'category': 'coat', 'picture': 'products/relaxed_fit_coat.png'}\n",
      "{'name': 'Oversized Velvet Blazer', 'description': 'A description of the Oversized Velvet Blazer.', 'price': 159.0, 'skus': [{'size': 'S', 'quantity': 25}, {'size': 'M', 'quantity': 100}, {'size': 'L', 'quantity': 50}, {'size': 'XL', 'quantity': 30}], 'category': 'blazer', 'picture': 'products/oversized_velvet_blazer.png'}\n",
      "{'name': 'Shiny Shirt', 'description': 'A description of the Shiny Shirt.', 'price': 69.9, 'skus': [{'size': 'S', 'quantity': 40}, {'size': 'M', 'quantity': 110}, {'size': 'L', 'quantity': 90}, {'size': 'XL', 'quantity': 20}], 'category': 'shirt', 'picture': 'products/shiny_shirt.png'}\n",
      "{'name': 'Velvet Pleated Pants', 'description': 'A description of the Velvet Pleated Pants.', 'price': 69.9, 'skus': [{'size': 'S', 'quantity': 15}, {'size': 'M', 'quantity': 85}, {'size': 'L', 'quantity': 95}, {'size': 'XL', 'quantity': 45}], 'category': 'pants', 'picture': 'products/velvet_pleated_pants.png'}\n",
      "{'name': 'Faux Fur Hooded Jacket', 'description': 'A description of the Faux Fur Hooded Jacket.', 'price': 129.0, 'skus': [{'size': 'S', 'quantity': 35}, {'size': 'M', 'quantity': 65}, {'size': 'L', 'quantity': 75}, {'size': 'XL', 'quantity': 25}], 'category': 'jacket', 'picture': 'products/faux_fur_hooded_jacket.png'}\n",
      "{'name': 'Double Waist Jeans', 'description': 'A description of the Double Waist Jeans.', 'price': 89.9, 'skus': [{'size': 'S', 'quantity': 20}, {'size': 'M', 'quantity': 70}, {'size': 'L', 'quantity': 80}, {'size': 'XL', 'quantity': 30}], 'category': 'jeans', 'picture': 'products/double_waist_jeans.png'}\n",
      "{'name': 'Rhinestone Denim Jacket', 'description': 'A description of the Rhinestone Denim Jacket.', 'price': 169.0, 'skus': [{'size': 'S', 'quantity': 18}, {'size': 'M', 'quantity': 82}, {'size': 'L', 'quantity': 76}, {'size': 'XL', 'quantity': 24}], 'category': 'jacket', 'picture': 'products/rhinestone_denim_jacket.png'}\n",
      "{'name': 'Side Ripped Effect Jeans', 'description': 'A description of the Side Ripped Effect Jeans.', 'price': 89.9, 'skus': [{'size': 'S', 'quantity': 22}, {'size': 'M', 'quantity': 78}, {'size': 'L', 'quantity': 88}, {'size': 'XL', 'quantity': 32}], 'category': 'jeans', 'picture': 'products/side_ripped_effect_jeans.png'}\n"
     ]
    }
   ],
   "source": [
    "# loop through products.json rows and insert into MongoDB\n",
    "with open('products.json', 'r') as file:\n",
    "    data = json.load(file)\n",
    "    for row in data['products']:\n",
    "        print(row)\n",
    "        products.insert_one(row)\n"
   ]
  },
  {
   "cell_type": "code",
   "execution_count": 9,
   "metadata": {},
   "outputs": [
    {
     "name": "stdout",
     "output_type": "stream",
     "text": [
      "{'email': 'james.wilson@example.com', 'firstName': 'James', 'lastName': 'Wilson', 'hashedPassword': 'somehashedpassword1', 'billingAddress': {'country': 'United States', 'street 1': '123 Oak Street', 'street 2': 'Unit 4', 'city': 'Austin', 'state': 'Texas', 'zip': '73301'}, 'shippingAddress': {'country': 'United States', 'street 1': '123 Oak Street', 'street 2': 'Unit 4', 'city': 'Austin', 'state': 'Texas', 'zip': '73301'}}\n",
      "{'email': 'emily.jones@example.com', 'firstName': 'Emily', 'lastName': 'Jones', 'hashedPassword': 'somehashedpassword2', 'billingAddress': {'country': 'United States', 'street 1': '456 Pine Road', 'street 2': 'Apt B2', 'city': 'Raleigh', 'state': 'North Carolina', 'zip': '27601'}, 'shippingAddress': {'country': 'United States', 'street 1': '456 Pine Road', 'street 2': 'Apt B2', 'city': 'Raleigh', 'state': 'North Carolina', 'zip': '27601'}}\n",
      "{'email': 'david.smith@example.com', 'firstName': 'David', 'lastName': 'Smith', 'hashedPassword': 'somehashedpassword3', 'billingAddress': {'country': 'United States', 'street 1': '789 Maple Lane', 'street 2': 'Suite 300', 'city': 'Denver', 'state': 'Colorado', 'zip': '80201'}, 'shippingAddress': {'country': 'United States', 'street 1': '789 Maple Lane', 'street 2': 'Suite 300', 'city': 'Denver', 'state': 'Colorado', 'zip': '80201'}}\n",
      "{'email': 'sophia.brown@example.com', 'firstName': 'Sophia', 'lastName': 'Brown', 'hashedPassword': 'somehashedpassword4', 'billingAddress': {'country': 'United States', 'street 1': '321 Cedar Blvd', 'street 2': 'Apt 12', 'city': 'Seattle', 'state': 'Washington', 'zip': '98101'}, 'shippingAddress': {'country': 'United States', 'street 1': '321 Cedar Blvd', 'street 2': 'Apt 12', 'city': 'Seattle', 'state': 'Washington', 'zip': '98101'}}\n",
      "{'email': 'william.johnson@example.com', 'firstName': 'William', 'lastName': 'Johnson', 'hashedPassword': 'somehashedpassword5', 'billingAddress': {'country': 'United States', 'street 1': '654 Elm Street', 'street 2': '', 'city': 'Orlando', 'state': 'Florida', 'zip': '32801'}, 'shippingAddress': {'country': 'United States', 'street 1': '654 Elm Street', 'street 2': '', 'city': 'Orlando', 'state': 'Florida', 'zip': '32801'}}\n"
     ]
    }
   ],
   "source": [
    "# loop through users.json rows and insert into MongoDB\n",
    "with open('users.json', 'r') as file:\n",
    "    data = json.load(file)\n",
    "    for row in data['users']:\n",
    "        print(row)\n",
    "        users.insert_one(row)"
   ]
  },
  {
   "cell_type": "code",
   "execution_count": 11,
   "metadata": {},
   "outputs": [
    {
     "name": "stdout",
     "output_type": "stream",
     "text": [
      "{'userId': 'james.wilson@example.com', 'type': 'credit', 'card': {'type': 'visa', 'lastFour': '1212', 'expiryMonth': 12, 'expiryYear': 2023, 'cvvVerified': True}}\n",
      "{'userId': 'emily.jones@example.com', 'type': 'stripe', 'status': 'awaitingVerification', 'token': 'emilyjones_stripe_token'}\n",
      "{'userId': 'david.smith@example.com', 'type': 'credit', 'card': {'type': 'mastercard', 'lastFour': '3434', 'expiryMonth': 11, 'expiryYear': 2024, 'cvvVerified': False}}\n",
      "{'userId': 'sophia.brown@example.com', 'type': 'paypal', 'email': 'sophiabrown_paypal@example.com', 'status': 'verified'}\n",
      "{'userId': 'william.johnson@example.com', 'type': 'debit', 'card': {'type': 'visa', 'lastFour': '5566', 'expiryMonth': 10, 'expiryYear': 2025, 'cvvVerified': True}}\n"
     ]
    }
   ],
   "source": [
    "# loop through payments.json rows and insert into MongoDB\n",
    "with open('payments.json', 'r') as file:\n",
    "    data = json.load(file)\n",
    "    for row in data['payments']:\n",
    "        print(row)\n",
    "        payments.insert_one(row)"
   ]
  },
  {
   "cell_type": "code",
   "execution_count": 12,
   "metadata": {},
   "outputs": [
    {
     "name": "stdout",
     "output_type": "stream",
     "text": [
      "{'userId': 'david.smith@example.com', 'paymentStatus': 'processed', 'status': 'delivered', 'amount': 158.8, 'items': [{'name': 'Shiny Shirt', 'size': 'L', 'quantity': 2, 'price': 69.9, 'discounts': 0.0, 'preTax': 139.8, 'afterTax': 152.78}], 'shippingAddress': {'country': 'United States', 'street 1': '789 Maple Lane', 'street 2': 'Suite 300', 'city': 'Denver', 'state': 'Colorado', 'zip': '80201'}, 'billingAddress': {'country': 'United States', 'street 1': '101 Different St', 'street 2': 'Suite 500', 'city': 'Denver', 'state': 'Colorado', 'zip': '80202'}, 'trackingNumber': 'US123456789C'}\n",
      "{'userId': 'sophia.brown@example.com', 'paymentStatus': 'authorized', 'status': 'pending', 'amount': 218.9, 'items': [{'name': 'Velvet Pleated Pants', 'size': 'M', 'quantity': 1, 'price': 69.9, 'discounts': 5.0, 'preTax': 64.9, 'afterTax': 70.74}, {'name': 'Faux Fur Hooded Jacket', 'size': 'S', 'quantity': 1, 'price': 129.0, 'discounts': 0.0, 'preTax': 129.0, 'afterTax': 140.78}], 'shippingAddress': {'country': 'United States', 'street 1': '321 Cedar Blvd', 'street 2': 'Apt 12', 'city': 'Seattle', 'state': 'Washington', 'zip': '98101'}, 'billingAddress': {'country': 'United States', 'street 1': '321 Cedar Blvd', 'street 2': 'Apt 12', 'city': 'Seattle', 'state': 'Washington', 'zip': '98101'}, 'trackingNumber': 'US123456789D'}\n",
      "{'userId': 'william.johnson@example.com', 'paymentStatus': 'declined', 'status': 'cancelled', 'amount': 179.8, 'items': [{'name': 'Rhinestone Denim Jacket', 'size': 'XL', 'quantity': 1, 'price': 169.0, 'discounts': 0.0, 'preTax': 169.0, 'afterTax': 184.11}], 'shippingAddress': {'country': 'United States', 'street 1': '654 Elm Street', 'street 2': '', 'city': 'Orlando', 'state': 'Florida', 'zip': '32801'}, 'billingAddress': {'country': 'United States', 'street 1': '987 Palm Road', 'street 2': '', 'city': 'Orlando', 'state': 'Florida', 'zip': '32808'}, 'trackingNumber': 'US123456789E'}\n"
     ]
    }
   ],
   "source": [
    "# loop through orders.json rows and insert into MongoDB\n",
    "with open('orders.json', 'r') as file:\n",
    "    data = json.load(file)\n",
    "    for row in data['orders']:\n",
    "        print(row)\n",
    "        orders.insert_one(row)"
   ]
  },
  {
   "cell_type": "code",
   "execution_count": 17,
   "metadata": {},
   "outputs": [],
   "source": [
    "# # Delete the jobs collection\n",
    "# jobs.drop()\n",
    "\n",
    "# # Delete the companies collection\n",
    "# companies.drop()\n",
    "\n",
    "# # Delete the industries collection\n",
    "# industries.drop()"
   ]
  },
  {
   "cell_type": "code",
   "execution_count": null,
   "metadata": {},
   "outputs": [],
   "source": []
  }
 ],
 "metadata": {
  "kernelspec": {
   "display_name": "base",
   "language": "python",
   "name": "python3"
  },
  "language_info": {
   "codemirror_mode": {
    "name": "ipython",
    "version": 3
   },
   "file_extension": ".py",
   "mimetype": "text/x-python",
   "name": "python",
   "nbconvert_exporter": "python",
   "pygments_lexer": "ipython3",
   "version": "3.11.4"
  },
  "orig_nbformat": 4
 },
 "nbformat": 4,
 "nbformat_minor": 2
}
